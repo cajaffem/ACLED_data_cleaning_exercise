{
 "cells": [
  {
   "cell_type": "code",
   "execution_count": null,
   "metadata": {},
   "outputs": [],
   "source": [
    "# create initial dataframe\n",
    "import pandas as pd\n",
    "import datetime as dt\n",
    "import numpy as np\n",
    "\n",
    "# read dataframe and remove 'title row'\n",
    "dirty = \"data/dirty_exercise.csv\"\n",
    "df = pd.read_csv(dirty, header=4, parse_dates=['eventDate'])"
   ]
  },
  {
   "cell_type": "code",
   "execution_count": null,
   "metadata": {},
   "outputs": [],
   "source": [
    "# remove 'fake' rows\n",
    "df = df[df.event_id_cnty != 'Fake']\n",
    "# remove null value rows\n",
    "df['event_id_cnty'].replace('', np.nan, inplace=True)\n",
    "df.dropna(subset=['event_id_cnty'], inplace=True)"
   ]
  },
  {
   "cell_type": "code",
   "execution_count": null,
   "metadata": {},
   "outputs": [],
   "source": [
    "# correct event_date datatype\n",
    "df['eventDate'] = pd.to_numeric(df['eventDate'])\n",
    "df['eventDate'] = pd.to_datetime(df['eventDate'], unit='D', origin='1899-12-30')"
   ]
  },
  {
   "cell_type": "code",
   "execution_count": null,
   "metadata": {},
   "outputs": [],
   "source": [
    "# correct misnamed columns\n",
    "df.rename(columns={'eventDate': 'event_date', 'assocActor2': 'assoc_actor_2'}, inplace=True)"
   ]
  },
  {
   "cell_type": "code",
   "execution_count": null,
   "metadata": {},
   "outputs": [],
   "source": [
    "# strip whitespace from affected columns\n",
    "df['event_type'] = df['event_type'].str.strip()\n",
    "df['sub_event_type'] = df['sub_event_type'].str.strip()\n",
    "# correct misnamed ETs and SETs\n",
    "df['event_type'] = df['event_type'].str.replace('Violence Against Civilians', 'Violence against civilians')\n",
    "df['sub_event_type'] = df['sub_event_type'].str.replace('Peaceful Protest', 'Peaceful protest')\n",
    "# correct Egypt in country column\n",
    "df['country'] = df['country'].str.replace('This is supposed to be egypt', 'Egypt')"
   ]
  },
  {
   "cell_type": "code",
   "execution_count": null,
   "metadata": {},
   "outputs": [],
   "source": [
    "# create year column\n",
    "date_conditions = [(df['2020']=='Yes'), (df['2020']=='No')]\n",
    "date_values = [2020, 2021]\n",
    "df['year'] = np.select(date_conditions, date_values)"
   ]
  },
  {
   "cell_type": "code",
   "execution_count": null,
   "metadata": {},
   "outputs": [],
   "source": [
    "# create seperate A1 and AA1 colunms\n",
    "df[['actor1', 'assoc_actor_1']]=df['Actors 1 & assoc actors 1'].str.split('& ', expand=True)\n",
    "# create cleaned data frame with correct rows only\n",
    "df_cleaned = df[['iso', 'event_id_cnty', 'event_id_no_cnty', 'event_date', 'year', 'time_precision', 'event_type', \n",
    "                'sub_event_type', 'actor1', 'assoc_actor_1', 'inter1', 'actor2', 'assoc_actor_2', 'inter2', 'interaction',\n",
    "                'region', 'country', 'admin1', 'admin2', 'admin3', 'location', 'latitude', 'longitude', 'geo_precision',\n",
    "                'source', 'source_scale', 'notes', 'fatalities', 'timestamp']]"
   ]
  },
  {
   "cell_type": "code",
   "execution_count": null,
   "metadata": {},
   "outputs": [],
   "source": [
    "df_cleaned.to_csv('../ACLED/cleaned.csv', index=False)"
   ]
  }
 ],
 "metadata": {
  "kernelspec": {
   "display_name": "Python 3",
   "language": "python",
   "name": "python3"
  },
  "language_info": {
   "codemirror_mode": {
    "name": "ipython",
    "version": 3
   },
   "file_extension": ".py",
   "mimetype": "text/x-python",
   "name": "python",
   "nbconvert_exporter": "python",
   "pygments_lexer": "ipython3",
   "version": "3.7.4"
  }
 },
 "nbformat": 4,
 "nbformat_minor": 2
}
